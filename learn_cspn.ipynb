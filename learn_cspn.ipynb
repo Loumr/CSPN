{
 "cells": [
  {
   "cell_type": "markdown",
   "metadata": {},
   "source": [
    "## Imports"
   ]
  },
  {
   "cell_type": "markdown",
   "metadata": {},
   "source": [
    "### Import useful general libraries"
   ]
  },
  {
   "cell_type": "code",
   "execution_count": 2,
   "metadata": {},
   "outputs": [],
   "source": [
    "import pandas as pd\n",
    "import numpy as np\n",
    "import matplotlib.pyplot as plt\n",
    "import seaborn as sns\n",
    "import scipy\n"
   ]
  },
  {
   "cell_type": "markdown",
   "metadata": {},
   "source": [
    "### Import classes and methods from library for SPNs (spflow)"
   ]
  },
  {
   "cell_type": "code",
   "execution_count": 3,
   "metadata": {},
   "outputs": [],
   "source": [
    "np.random.seed(123)\n",
    "\n",
    "from spn.io.Graphics import plot_spn\n",
    "from spn.algorithms.LearningWrappers import *\n",
    "from spn.structure.leaves.parametric.Parametric import Categorical, Gaussian\n",
    "from spn.structure.Base import Context, Sum, Product, Leaf, eval_spn_bottom_up, assign_ids, rebuild_scopes_bottom_up\n",
    "from spn.structure.Base import *\n",
    "from spn.algorithms.MPE import mpe\n",
    "from spn.algorithms.Inference import log_likelihood, likelihood, prod_likelihood, _node_likelihood"
   ]
  },
  {
   "cell_type": "markdown",
   "metadata": {},
   "source": [
    "### Import data"
   ]
  },
  {
   "cell_type": "code",
   "execution_count": 4,
   "metadata": {},
   "outputs": [
    {
     "name": "stdout",
     "output_type": "stream",
     "text": [
      "   0  1   6  15  12  1.1  0.1  0.2  0.3  7  ...  0.21  0.22  0.23  6.3  14.1  \\\n",
      "0  0  0  10  16   6    0    0    0    0  7  ...     0     0     0   10    16   \n",
      "1  0  0   8  15  16   13    0    0    0  1  ...     0     0     0    9    14   \n",
      "2  0  0   0   3  11   16    0    0    0  0  ...     0     0     0    0     1   \n",
      "3  0  0   5  14   4    0    0    0    0  0  ...     0     0     0    4    12   \n",
      "4  0  0  11  16  10    1    0    0    0  4  ...     3     0     0   10    16   \n",
      "\n",
      "   7.4  1.3  0.24  0.25  0.26  \n",
      "0   15    3     0     0     0  \n",
      "1    0    0     0     0     7  \n",
      "2   15    2     0     0     4  \n",
      "3   14    7     0     0     6  \n",
      "4   16   16    16     6     2  \n",
      "\n",
      "[5 rows x 65 columns]\n"
     ]
    }
   ],
   "source": [
    "file_path = 'C:/Users/loumo/OneDrive/Documents/Academique/ANDROIDE/M2/MADI/Projet/Dataset/optdigits.tra'\n",
    "\n",
    "# Read the CSV file into a Pandas DataFrame\n",
    "df = pd.read_csv(file_path)\n",
    "\n",
    "print(df.head())  # Display the first few rows of the DataFrame"
   ]
  },
  {
   "cell_type": "code",
   "execution_count": 5,
   "metadata": {},
   "outputs": [],
   "source": [
    "file_path = 'C:/Users/loumo/OneDrive/Documents/Academique/ANDROIDE/M2/MADI/Projet/Dataset/optdigits.tes'\n",
    "\n",
    "# Read the CSV file into a Pandas DataFrame\n",
    "df_test = pd.read_csv(file_path)"
   ]
  },
  {
   "cell_type": "code",
   "execution_count": 32,
   "metadata": {},
   "outputs": [
    {
     "name": "stdout",
     "output_type": "stream",
     "text": [
      "(1796, 65)\n",
      "[[ 0.  0.  0. ...  0.  0. nan]\n",
      " [ 0.  0.  0. ...  9.  0. nan]\n",
      " [ 0.  0.  7. ...  0.  0. nan]\n",
      " ...\n",
      " [ 0.  0.  1. ...  0.  0. nan]\n",
      " [ 0.  0.  2. ...  0.  0. nan]\n",
      " [ 0.  0. 10. ...  1.  0. nan]]\n"
     ]
    }
   ],
   "source": [
    "test_data = df_test.values\n",
    "#print(test_data)\n",
    "print(np.shape(test_data))\n",
    "test_data_no_class = np.ones((1796,65))*np.nan\n",
    "test_data_no_class[:,:64] = test_data[:,:64]\n",
    "print(test_data_no_class)"
   ]
  },
  {
   "cell_type": "markdown",
   "metadata": {},
   "source": [
    "## Learn SPN"
   ]
  },
  {
   "cell_type": "code",
   "execution_count": 7,
   "metadata": {},
   "outputs": [],
   "source": [
    "dom = np.asanyarray([[i for i in range(17)]]*65)"
   ]
  },
  {
   "cell_type": "code",
   "execution_count": 8,
   "metadata": {},
   "outputs": [
    {
     "name": "stderr",
     "output_type": "stream",
     "text": [
      "c:\\Users\\loumo\\anaconda3\\envs\\madi_env\\Lib\\site-packages\\sklearn\\cross_decomposition\\_pls.py:113: ConvergenceWarning: Maximum number of iterations reached\n",
      "  warnings.warn(\"Maximum number of iterations reached\", ConvergenceWarning)\n",
      "c:\\Users\\loumo\\anaconda3\\envs\\madi_env\\Lib\\site-packages\\sklearn\\cross_decomposition\\_pls.py:113: ConvergenceWarning: Maximum number of iterations reached\n",
      "  warnings.warn(\"Maximum number of iterations reached\", ConvergenceWarning)\n",
      "c:\\Users\\loumo\\anaconda3\\envs\\madi_env\\Lib\\site-packages\\sklearn\\cross_decomposition\\_pls.py:113: ConvergenceWarning: Maximum number of iterations reached\n",
      "  warnings.warn(\"Maximum number of iterations reached\", ConvergenceWarning)\n",
      "c:\\Users\\loumo\\anaconda3\\envs\\madi_env\\Lib\\site-packages\\sklearn\\cross_decomposition\\_pls.py:113: ConvergenceWarning: Maximum number of iterations reached\n",
      "  warnings.warn(\"Maximum number of iterations reached\", ConvergenceWarning)\n",
      "c:\\Users\\loumo\\anaconda3\\envs\\madi_env\\Lib\\site-packages\\sklearn\\cross_decomposition\\_pls.py:113: ConvergenceWarning: Maximum number of iterations reached\n",
      "  warnings.warn(\"Maximum number of iterations reached\", ConvergenceWarning)\n",
      "c:\\Users\\loumo\\anaconda3\\envs\\madi_env\\Lib\\site-packages\\sklearn\\cross_decomposition\\_pls.py:113: ConvergenceWarning: Maximum number of iterations reached\n",
      "  warnings.warn(\"Maximum number of iterations reached\", ConvergenceWarning)\n",
      "c:\\Users\\loumo\\anaconda3\\envs\\madi_env\\Lib\\site-packages\\sklearn\\cluster\\_kmeans.py:1416: FutureWarning: The default value of `n_init` will change from 10 to 'auto' in 1.4. Set the value of `n_init` explicitly to suppress the warning\n",
      "  super()._check_params_vs_input(X, default_n_init=10)\n",
      "c:\\Users\\loumo\\anaconda3\\envs\\madi_env\\Lib\\site-packages\\sklearn\\cluster\\_kmeans.py:1440: UserWarning: KMeans is known to have a memory leak on Windows with MKL, when there are less chunks than available threads. You can avoid it by setting the environment variable OMP_NUM_THREADS=2.\n",
      "  warnings.warn(\n",
      "c:\\Users\\loumo\\anaconda3\\envs\\madi_env\\Lib\\site-packages\\sklearn\\cross_decomposition\\_pls.py:113: ConvergenceWarning: Maximum number of iterations reached\n",
      "  warnings.warn(\"Maximum number of iterations reached\", ConvergenceWarning)\n",
      "c:\\Users\\loumo\\anaconda3\\envs\\madi_env\\Lib\\site-packages\\sklearn\\cross_decomposition\\_pls.py:113: ConvergenceWarning: Maximum number of iterations reached\n",
      "  warnings.warn(\"Maximum number of iterations reached\", ConvergenceWarning)\n",
      "c:\\Users\\loumo\\anaconda3\\envs\\madi_env\\Lib\\site-packages\\sklearn\\cross_decomposition\\_pls.py:113: ConvergenceWarning: Maximum number of iterations reached\n",
      "  warnings.warn(\"Maximum number of iterations reached\", ConvergenceWarning)\n",
      "c:\\Users\\loumo\\anaconda3\\envs\\madi_env\\Lib\\site-packages\\sklearn\\cluster\\_kmeans.py:1416: FutureWarning: The default value of `n_init` will change from 10 to 'auto' in 1.4. Set the value of `n_init` explicitly to suppress the warning\n",
      "  super()._check_params_vs_input(X, default_n_init=10)\n",
      "c:\\Users\\loumo\\anaconda3\\envs\\madi_env\\Lib\\site-packages\\sklearn\\cluster\\_kmeans.py:1440: UserWarning: KMeans is known to have a memory leak on Windows with MKL, when there are less chunks than available threads. You can avoid it by setting the environment variable OMP_NUM_THREADS=2.\n",
      "  warnings.warn(\n",
      "c:\\Users\\loumo\\anaconda3\\envs\\madi_env\\Lib\\site-packages\\sklearn\\cross_decomposition\\_pls.py:113: ConvergenceWarning: Maximum number of iterations reached\n",
      "  warnings.warn(\"Maximum number of iterations reached\", ConvergenceWarning)\n",
      "c:\\Users\\loumo\\anaconda3\\envs\\madi_env\\Lib\\site-packages\\sklearn\\cross_decomposition\\_pls.py:113: ConvergenceWarning: Maximum number of iterations reached\n",
      "  warnings.warn(\"Maximum number of iterations reached\", ConvergenceWarning)\n",
      "c:\\Users\\loumo\\anaconda3\\envs\\madi_env\\Lib\\site-packages\\sklearn\\cross_decomposition\\_pls.py:113: ConvergenceWarning: Maximum number of iterations reached\n",
      "  warnings.warn(\"Maximum number of iterations reached\", ConvergenceWarning)\n",
      "c:\\Users\\loumo\\anaconda3\\envs\\madi_env\\Lib\\site-packages\\sklearn\\cross_decomposition\\_pls.py:113: ConvergenceWarning: Maximum number of iterations reached\n",
      "  warnings.warn(\"Maximum number of iterations reached\", ConvergenceWarning)\n",
      "c:\\Users\\loumo\\anaconda3\\envs\\madi_env\\Lib\\site-packages\\sklearn\\cross_decomposition\\_pls.py:113: ConvergenceWarning: Maximum number of iterations reached\n",
      "  warnings.warn(\"Maximum number of iterations reached\", ConvergenceWarning)\n",
      "c:\\Users\\loumo\\anaconda3\\envs\\madi_env\\Lib\\site-packages\\sklearn\\cross_decomposition\\_pls.py:113: ConvergenceWarning: Maximum number of iterations reached\n",
      "  warnings.warn(\"Maximum number of iterations reached\", ConvergenceWarning)\n",
      "c:\\Users\\loumo\\anaconda3\\envs\\madi_env\\Lib\\site-packages\\sklearn\\cross_decomposition\\_pls.py:113: ConvergenceWarning: Maximum number of iterations reached\n",
      "  warnings.warn(\"Maximum number of iterations reached\", ConvergenceWarning)\n",
      "c:\\Users\\loumo\\anaconda3\\envs\\madi_env\\Lib\\site-packages\\sklearn\\cross_decomposition\\_pls.py:113: ConvergenceWarning: Maximum number of iterations reached\n",
      "  warnings.warn(\"Maximum number of iterations reached\", ConvergenceWarning)\n",
      "c:\\Users\\loumo\\anaconda3\\envs\\madi_env\\Lib\\site-packages\\sklearn\\cross_decomposition\\_pls.py:113: ConvergenceWarning: Maximum number of iterations reached\n",
      "  warnings.warn(\"Maximum number of iterations reached\", ConvergenceWarning)\n",
      "c:\\Users\\loumo\\anaconda3\\envs\\madi_env\\Lib\\site-packages\\sklearn\\cross_decomposition\\_pls.py:113: ConvergenceWarning: Maximum number of iterations reached\n",
      "  warnings.warn(\"Maximum number of iterations reached\", ConvergenceWarning)\n",
      "c:\\Users\\loumo\\anaconda3\\envs\\madi_env\\Lib\\site-packages\\sklearn\\cluster\\_kmeans.py:1416: FutureWarning: The default value of `n_init` will change from 10 to 'auto' in 1.4. Set the value of `n_init` explicitly to suppress the warning\n",
      "  super()._check_params_vs_input(X, default_n_init=10)\n",
      "c:\\Users\\loumo\\anaconda3\\envs\\madi_env\\Lib\\site-packages\\sklearn\\cluster\\_kmeans.py:1440: UserWarning: KMeans is known to have a memory leak on Windows with MKL, when there are less chunks than available threads. You can avoid it by setting the environment variable OMP_NUM_THREADS=1.\n",
      "  warnings.warn(\n",
      "c:\\Users\\loumo\\anaconda3\\envs\\madi_env\\Lib\\site-packages\\sklearn\\cross_decomposition\\_pls.py:113: ConvergenceWarning: Maximum number of iterations reached\n",
      "  warnings.warn(\"Maximum number of iterations reached\", ConvergenceWarning)\n",
      "c:\\Users\\loumo\\anaconda3\\envs\\madi_env\\Lib\\site-packages\\sklearn\\cross_decomposition\\_pls.py:113: ConvergenceWarning: Maximum number of iterations reached\n",
      "  warnings.warn(\"Maximum number of iterations reached\", ConvergenceWarning)\n",
      "c:\\Users\\loumo\\anaconda3\\envs\\madi_env\\Lib\\site-packages\\sklearn\\cross_decomposition\\_pls.py:113: ConvergenceWarning: Maximum number of iterations reached\n",
      "  warnings.warn(\"Maximum number of iterations reached\", ConvergenceWarning)\n",
      "c:\\Users\\loumo\\anaconda3\\envs\\madi_env\\Lib\\site-packages\\sklearn\\cross_decomposition\\_pls.py:113: ConvergenceWarning: Maximum number of iterations reached\n",
      "  warnings.warn(\"Maximum number of iterations reached\", ConvergenceWarning)\n",
      "c:\\Users\\loumo\\anaconda3\\envs\\madi_env\\Lib\\site-packages\\sklearn\\cross_decomposition\\_pls.py:113: ConvergenceWarning: Maximum number of iterations reached\n",
      "  warnings.warn(\"Maximum number of iterations reached\", ConvergenceWarning)\n",
      "c:\\Users\\loumo\\anaconda3\\envs\\madi_env\\Lib\\site-packages\\sklearn\\cross_decomposition\\_pls.py:113: ConvergenceWarning: Maximum number of iterations reached\n",
      "  warnings.warn(\"Maximum number of iterations reached\", ConvergenceWarning)\n",
      "c:\\Users\\loumo\\anaconda3\\envs\\madi_env\\Lib\\site-packages\\sklearn\\cluster\\_kmeans.py:1416: FutureWarning: The default value of `n_init` will change from 10 to 'auto' in 1.4. Set the value of `n_init` explicitly to suppress the warning\n",
      "  super()._check_params_vs_input(X, default_n_init=10)\n",
      "c:\\Users\\loumo\\anaconda3\\envs\\madi_env\\Lib\\site-packages\\sklearn\\cluster\\_kmeans.py:1440: UserWarning: KMeans is known to have a memory leak on Windows with MKL, when there are less chunks than available threads. You can avoid it by setting the environment variable OMP_NUM_THREADS=2.\n",
      "  warnings.warn(\n",
      "c:\\Users\\loumo\\anaconda3\\envs\\madi_env\\Lib\\site-packages\\sklearn\\cross_decomposition\\_pls.py:113: ConvergenceWarning: Maximum number of iterations reached\n",
      "  warnings.warn(\"Maximum number of iterations reached\", ConvergenceWarning)\n",
      "c:\\Users\\loumo\\anaconda3\\envs\\madi_env\\Lib\\site-packages\\sklearn\\cross_decomposition\\_pls.py:113: ConvergenceWarning: Maximum number of iterations reached\n",
      "  warnings.warn(\"Maximum number of iterations reached\", ConvergenceWarning)\n",
      "c:\\Users\\loumo\\anaconda3\\envs\\madi_env\\Lib\\site-packages\\sklearn\\cluster\\_kmeans.py:1416: FutureWarning: The default value of `n_init` will change from 10 to 'auto' in 1.4. Set the value of `n_init` explicitly to suppress the warning\n",
      "  super()._check_params_vs_input(X, default_n_init=10)\n",
      "c:\\Users\\loumo\\anaconda3\\envs\\madi_env\\Lib\\site-packages\\sklearn\\cluster\\_kmeans.py:1440: UserWarning: KMeans is known to have a memory leak on Windows with MKL, when there are less chunks than available threads. You can avoid it by setting the environment variable OMP_NUM_THREADS=1.\n",
      "  warnings.warn(\n",
      "c:\\Users\\loumo\\anaconda3\\envs\\madi_env\\Lib\\site-packages\\sklearn\\cross_decomposition\\_pls.py:113: ConvergenceWarning: Maximum number of iterations reached\n",
      "  warnings.warn(\"Maximum number of iterations reached\", ConvergenceWarning)\n",
      "c:\\Users\\loumo\\anaconda3\\envs\\madi_env\\Lib\\site-packages\\sklearn\\cross_decomposition\\_pls.py:113: ConvergenceWarning: Maximum number of iterations reached\n",
      "  warnings.warn(\"Maximum number of iterations reached\", ConvergenceWarning)\n",
      "c:\\Users\\loumo\\anaconda3\\envs\\madi_env\\Lib\\site-packages\\sklearn\\cross_decomposition\\_pls.py:113: ConvergenceWarning: Maximum number of iterations reached\n",
      "  warnings.warn(\"Maximum number of iterations reached\", ConvergenceWarning)\n",
      "c:\\Users\\loumo\\anaconda3\\envs\\madi_env\\Lib\\site-packages\\sklearn\\cross_decomposition\\_pls.py:113: ConvergenceWarning: Maximum number of iterations reached\n",
      "  warnings.warn(\"Maximum number of iterations reached\", ConvergenceWarning)\n",
      "c:\\Users\\loumo\\anaconda3\\envs\\madi_env\\Lib\\site-packages\\sklearn\\cross_decomposition\\_pls.py:113: ConvergenceWarning: Maximum number of iterations reached\n",
      "  warnings.warn(\"Maximum number of iterations reached\", ConvergenceWarning)\n",
      "c:\\Users\\loumo\\anaconda3\\envs\\madi_env\\Lib\\site-packages\\sklearn\\cross_decomposition\\_pls.py:113: ConvergenceWarning: Maximum number of iterations reached\n",
      "  warnings.warn(\"Maximum number of iterations reached\", ConvergenceWarning)\n",
      "c:\\Users\\loumo\\anaconda3\\envs\\madi_env\\Lib\\site-packages\\sklearn\\cross_decomposition\\_pls.py:113: ConvergenceWarning: Maximum number of iterations reached\n",
      "  warnings.warn(\"Maximum number of iterations reached\", ConvergenceWarning)\n",
      "c:\\Users\\loumo\\anaconda3\\envs\\madi_env\\Lib\\site-packages\\sklearn\\cross_decomposition\\_pls.py:113: ConvergenceWarning: Maximum number of iterations reached\n",
      "  warnings.warn(\"Maximum number of iterations reached\", ConvergenceWarning)\n",
      "c:\\Users\\loumo\\anaconda3\\envs\\madi_env\\Lib\\site-packages\\sklearn\\cross_decomposition\\_pls.py:113: ConvergenceWarning: Maximum number of iterations reached\n",
      "  warnings.warn(\"Maximum number of iterations reached\", ConvergenceWarning)\n",
      "c:\\Users\\loumo\\anaconda3\\envs\\madi_env\\Lib\\site-packages\\sklearn\\cross_decomposition\\_pls.py:113: ConvergenceWarning: Maximum number of iterations reached\n",
      "  warnings.warn(\"Maximum number of iterations reached\", ConvergenceWarning)\n",
      "c:\\Users\\loumo\\anaconda3\\envs\\madi_env\\Lib\\site-packages\\sklearn\\cluster\\_kmeans.py:1416: FutureWarning: The default value of `n_init` will change from 10 to 'auto' in 1.4. Set the value of `n_init` explicitly to suppress the warning\n",
      "  super()._check_params_vs_input(X, default_n_init=10)\n",
      "c:\\Users\\loumo\\anaconda3\\envs\\madi_env\\Lib\\site-packages\\sklearn\\cluster\\_kmeans.py:1440: UserWarning: KMeans is known to have a memory leak on Windows with MKL, when there are less chunks than available threads. You can avoid it by setting the environment variable OMP_NUM_THREADS=2.\n",
      "  warnings.warn(\n",
      "c:\\Users\\loumo\\anaconda3\\envs\\madi_env\\Lib\\site-packages\\sklearn\\cross_decomposition\\_pls.py:113: ConvergenceWarning: Maximum number of iterations reached\n",
      "  warnings.warn(\"Maximum number of iterations reached\", ConvergenceWarning)\n",
      "c:\\Users\\loumo\\anaconda3\\envs\\madi_env\\Lib\\site-packages\\sklearn\\cross_decomposition\\_pls.py:113: ConvergenceWarning: Maximum number of iterations reached\n",
      "  warnings.warn(\"Maximum number of iterations reached\", ConvergenceWarning)\n",
      "c:\\Users\\loumo\\anaconda3\\envs\\madi_env\\Lib\\site-packages\\sklearn\\cross_decomposition\\_pls.py:113: ConvergenceWarning: Maximum number of iterations reached\n",
      "  warnings.warn(\"Maximum number of iterations reached\", ConvergenceWarning)\n",
      "c:\\Users\\loumo\\anaconda3\\envs\\madi_env\\Lib\\site-packages\\sklearn\\cross_decomposition\\_pls.py:113: ConvergenceWarning: Maximum number of iterations reached\n",
      "  warnings.warn(\"Maximum number of iterations reached\", ConvergenceWarning)\n",
      "c:\\Users\\loumo\\anaconda3\\envs\\madi_env\\Lib\\site-packages\\sklearn\\cross_decomposition\\_pls.py:113: ConvergenceWarning: Maximum number of iterations reached\n",
      "  warnings.warn(\"Maximum number of iterations reached\", ConvergenceWarning)\n",
      "c:\\Users\\loumo\\anaconda3\\envs\\madi_env\\Lib\\site-packages\\sklearn\\cluster\\_kmeans.py:1416: FutureWarning: The default value of `n_init` will change from 10 to 'auto' in 1.4. Set the value of `n_init` explicitly to suppress the warning\n",
      "  super()._check_params_vs_input(X, default_n_init=10)\n",
      "c:\\Users\\loumo\\anaconda3\\envs\\madi_env\\Lib\\site-packages\\sklearn\\cluster\\_kmeans.py:1440: UserWarning: KMeans is known to have a memory leak on Windows with MKL, when there are less chunks than available threads. You can avoid it by setting the environment variable OMP_NUM_THREADS=1.\n",
      "  warnings.warn(\n",
      "c:\\Users\\loumo\\anaconda3\\envs\\madi_env\\Lib\\site-packages\\sklearn\\cross_decomposition\\_pls.py:113: ConvergenceWarning: Maximum number of iterations reached\n",
      "  warnings.warn(\"Maximum number of iterations reached\", ConvergenceWarning)\n",
      "c:\\Users\\loumo\\anaconda3\\envs\\madi_env\\Lib\\site-packages\\sklearn\\cross_decomposition\\_pls.py:113: ConvergenceWarning: Maximum number of iterations reached\n",
      "  warnings.warn(\"Maximum number of iterations reached\", ConvergenceWarning)\n",
      "c:\\Users\\loumo\\anaconda3\\envs\\madi_env\\Lib\\site-packages\\sklearn\\cluster\\_kmeans.py:1416: FutureWarning: The default value of `n_init` will change from 10 to 'auto' in 1.4. Set the value of `n_init` explicitly to suppress the warning\n",
      "  super()._check_params_vs_input(X, default_n_init=10)\n",
      "c:\\Users\\loumo\\anaconda3\\envs\\madi_env\\Lib\\site-packages\\sklearn\\cluster\\_kmeans.py:1440: UserWarning: KMeans is known to have a memory leak on Windows with MKL, when there are less chunks than available threads. You can avoid it by setting the environment variable OMP_NUM_THREADS=2.\n",
      "  warnings.warn(\n",
      "c:\\Users\\loumo\\anaconda3\\envs\\madi_env\\Lib\\site-packages\\sklearn\\cross_decomposition\\_pls.py:113: ConvergenceWarning: Maximum number of iterations reached\n",
      "  warnings.warn(\"Maximum number of iterations reached\", ConvergenceWarning)\n",
      "c:\\Users\\loumo\\anaconda3\\envs\\madi_env\\Lib\\site-packages\\sklearn\\cross_decomposition\\_pls.py:113: ConvergenceWarning: Maximum number of iterations reached\n",
      "  warnings.warn(\"Maximum number of iterations reached\", ConvergenceWarning)\n",
      "c:\\Users\\loumo\\anaconda3\\envs\\madi_env\\Lib\\site-packages\\sklearn\\cross_decomposition\\_pls.py:113: ConvergenceWarning: Maximum number of iterations reached\n",
      "  warnings.warn(\"Maximum number of iterations reached\", ConvergenceWarning)\n",
      "c:\\Users\\loumo\\anaconda3\\envs\\madi_env\\Lib\\site-packages\\sklearn\\cross_decomposition\\_pls.py:113: ConvergenceWarning: Maximum number of iterations reached\n",
      "  warnings.warn(\"Maximum number of iterations reached\", ConvergenceWarning)\n",
      "c:\\Users\\loumo\\anaconda3\\envs\\madi_env\\Lib\\site-packages\\sklearn\\cluster\\_kmeans.py:1416: FutureWarning: The default value of `n_init` will change from 10 to 'auto' in 1.4. Set the value of `n_init` explicitly to suppress the warning\n",
      "  super()._check_params_vs_input(X, default_n_init=10)\n",
      "c:\\Users\\loumo\\anaconda3\\envs\\madi_env\\Lib\\site-packages\\sklearn\\cluster\\_kmeans.py:1440: UserWarning: KMeans is known to have a memory leak on Windows with MKL, when there are less chunks than available threads. You can avoid it by setting the environment variable OMP_NUM_THREADS=1.\n",
      "  warnings.warn(\n",
      "c:\\Users\\loumo\\anaconda3\\envs\\madi_env\\Lib\\site-packages\\sklearn\\cross_decomposition\\_pls.py:113: ConvergenceWarning: Maximum number of iterations reached\n",
      "  warnings.warn(\"Maximum number of iterations reached\", ConvergenceWarning)\n",
      "c:\\Users\\loumo\\anaconda3\\envs\\madi_env\\Lib\\site-packages\\sklearn\\cross_decomposition\\_pls.py:113: ConvergenceWarning: Maximum number of iterations reached\n",
      "  warnings.warn(\"Maximum number of iterations reached\", ConvergenceWarning)\n",
      "c:\\Users\\loumo\\anaconda3\\envs\\madi_env\\Lib\\site-packages\\sklearn\\cross_decomposition\\_pls.py:113: ConvergenceWarning: Maximum number of iterations reached\n",
      "  warnings.warn(\"Maximum number of iterations reached\", ConvergenceWarning)\n",
      "c:\\Users\\loumo\\anaconda3\\envs\\madi_env\\Lib\\site-packages\\sklearn\\cross_decomposition\\_pls.py:113: ConvergenceWarning: Maximum number of iterations reached\n",
      "  warnings.warn(\"Maximum number of iterations reached\", ConvergenceWarning)\n",
      "c:\\Users\\loumo\\anaconda3\\envs\\madi_env\\Lib\\site-packages\\sklearn\\cluster\\_kmeans.py:1416: FutureWarning: The default value of `n_init` will change from 10 to 'auto' in 1.4. Set the value of `n_init` explicitly to suppress the warning\n",
      "  super()._check_params_vs_input(X, default_n_init=10)\n",
      "c:\\Users\\loumo\\anaconda3\\envs\\madi_env\\Lib\\site-packages\\sklearn\\cluster\\_kmeans.py:1440: UserWarning: KMeans is known to have a memory leak on Windows with MKL, when there are less chunks than available threads. You can avoid it by setting the environment variable OMP_NUM_THREADS=2.\n",
      "  warnings.warn(\n",
      "c:\\Users\\loumo\\anaconda3\\envs\\madi_env\\Lib\\site-packages\\sklearn\\cross_decomposition\\_pls.py:113: ConvergenceWarning: Maximum number of iterations reached\n",
      "  warnings.warn(\"Maximum number of iterations reached\", ConvergenceWarning)\n",
      "c:\\Users\\loumo\\anaconda3\\envs\\madi_env\\Lib\\site-packages\\sklearn\\cross_decomposition\\_pls.py:113: ConvergenceWarning: Maximum number of iterations reached\n",
      "  warnings.warn(\"Maximum number of iterations reached\", ConvergenceWarning)\n",
      "c:\\Users\\loumo\\anaconda3\\envs\\madi_env\\Lib\\site-packages\\sklearn\\cross_decomposition\\_pls.py:113: ConvergenceWarning: Maximum number of iterations reached\n",
      "  warnings.warn(\"Maximum number of iterations reached\", ConvergenceWarning)\n",
      "c:\\Users\\loumo\\anaconda3\\envs\\madi_env\\Lib\\site-packages\\sklearn\\cross_decomposition\\_pls.py:113: ConvergenceWarning: Maximum number of iterations reached\n",
      "  warnings.warn(\"Maximum number of iterations reached\", ConvergenceWarning)\n",
      "c:\\Users\\loumo\\anaconda3\\envs\\madi_env\\Lib\\site-packages\\sklearn\\cluster\\_kmeans.py:1416: FutureWarning: The default value of `n_init` will change from 10 to 'auto' in 1.4. Set the value of `n_init` explicitly to suppress the warning\n",
      "  super()._check_params_vs_input(X, default_n_init=10)\n",
      "c:\\Users\\loumo\\anaconda3\\envs\\madi_env\\Lib\\site-packages\\sklearn\\cluster\\_kmeans.py:1440: UserWarning: KMeans is known to have a memory leak on Windows with MKL, when there are less chunks than available threads. You can avoid it by setting the environment variable OMP_NUM_THREADS=2.\n",
      "  warnings.warn(\n",
      "c:\\Users\\loumo\\anaconda3\\envs\\madi_env\\Lib\\site-packages\\sklearn\\cross_decomposition\\_pls.py:113: ConvergenceWarning: Maximum number of iterations reached\n",
      "  warnings.warn(\"Maximum number of iterations reached\", ConvergenceWarning)\n",
      "c:\\Users\\loumo\\anaconda3\\envs\\madi_env\\Lib\\site-packages\\sklearn\\cross_decomposition\\_pls.py:113: ConvergenceWarning: Maximum number of iterations reached\n",
      "  warnings.warn(\"Maximum number of iterations reached\", ConvergenceWarning)\n",
      "c:\\Users\\loumo\\anaconda3\\envs\\madi_env\\Lib\\site-packages\\sklearn\\cross_decomposition\\_pls.py:113: ConvergenceWarning: Maximum number of iterations reached\n",
      "  warnings.warn(\"Maximum number of iterations reached\", ConvergenceWarning)\n",
      "c:\\Users\\loumo\\anaconda3\\envs\\madi_env\\Lib\\site-packages\\sklearn\\cluster\\_kmeans.py:1416: FutureWarning: The default value of `n_init` will change from 10 to 'auto' in 1.4. Set the value of `n_init` explicitly to suppress the warning\n",
      "  super()._check_params_vs_input(X, default_n_init=10)\n",
      "c:\\Users\\loumo\\anaconda3\\envs\\madi_env\\Lib\\site-packages\\sklearn\\cluster\\_kmeans.py:1440: UserWarning: KMeans is known to have a memory leak on Windows with MKL, when there are less chunks than available threads. You can avoid it by setting the environment variable OMP_NUM_THREADS=1.\n",
      "  warnings.warn(\n",
      "c:\\Users\\loumo\\anaconda3\\envs\\madi_env\\Lib\\site-packages\\sklearn\\cross_decomposition\\_pls.py:113: ConvergenceWarning: Maximum number of iterations reached\n",
      "  warnings.warn(\"Maximum number of iterations reached\", ConvergenceWarning)\n",
      "c:\\Users\\loumo\\anaconda3\\envs\\madi_env\\Lib\\site-packages\\sklearn\\cross_decomposition\\_pls.py:113: ConvergenceWarning: Maximum number of iterations reached\n",
      "  warnings.warn(\"Maximum number of iterations reached\", ConvergenceWarning)\n",
      "c:\\Users\\loumo\\anaconda3\\envs\\madi_env\\Lib\\site-packages\\sklearn\\cross_decomposition\\_pls.py:113: ConvergenceWarning: Maximum number of iterations reached\n",
      "  warnings.warn(\"Maximum number of iterations reached\", ConvergenceWarning)\n",
      "c:\\Users\\loumo\\anaconda3\\envs\\madi_env\\Lib\\site-packages\\sklearn\\cross_decomposition\\_pls.py:113: ConvergenceWarning: Maximum number of iterations reached\n",
      "  warnings.warn(\"Maximum number of iterations reached\", ConvergenceWarning)\n",
      "c:\\Users\\loumo\\anaconda3\\envs\\madi_env\\Lib\\site-packages\\sklearn\\cross_decomposition\\_pls.py:113: ConvergenceWarning: Maximum number of iterations reached\n",
      "  warnings.warn(\"Maximum number of iterations reached\", ConvergenceWarning)\n",
      "c:\\Users\\loumo\\anaconda3\\envs\\madi_env\\Lib\\site-packages\\sklearn\\cross_decomposition\\_pls.py:113: ConvergenceWarning: Maximum number of iterations reached\n",
      "  warnings.warn(\"Maximum number of iterations reached\", ConvergenceWarning)\n",
      "c:\\Users\\loumo\\anaconda3\\envs\\madi_env\\Lib\\site-packages\\sklearn\\cluster\\_kmeans.py:1416: FutureWarning: The default value of `n_init` will change from 10 to 'auto' in 1.4. Set the value of `n_init` explicitly to suppress the warning\n",
      "  super()._check_params_vs_input(X, default_n_init=10)\n",
      "c:\\Users\\loumo\\anaconda3\\envs\\madi_env\\Lib\\site-packages\\sklearn\\cluster\\_kmeans.py:1440: UserWarning: KMeans is known to have a memory leak on Windows with MKL, when there are less chunks than available threads. You can avoid it by setting the environment variable OMP_NUM_THREADS=2.\n",
      "  warnings.warn(\n",
      "c:\\Users\\loumo\\anaconda3\\envs\\madi_env\\Lib\\site-packages\\sklearn\\cross_decomposition\\_pls.py:113: ConvergenceWarning: Maximum number of iterations reached\n",
      "  warnings.warn(\"Maximum number of iterations reached\", ConvergenceWarning)\n",
      "c:\\Users\\loumo\\anaconda3\\envs\\madi_env\\Lib\\site-packages\\sklearn\\cross_decomposition\\_pls.py:113: ConvergenceWarning: Maximum number of iterations reached\n",
      "  warnings.warn(\"Maximum number of iterations reached\", ConvergenceWarning)\n",
      "c:\\Users\\loumo\\anaconda3\\envs\\madi_env\\Lib\\site-packages\\sklearn\\cross_decomposition\\_pls.py:113: ConvergenceWarning: Maximum number of iterations reached\n",
      "  warnings.warn(\"Maximum number of iterations reached\", ConvergenceWarning)\n",
      "c:\\Users\\loumo\\anaconda3\\envs\\madi_env\\Lib\\site-packages\\sklearn\\cross_decomposition\\_pls.py:113: ConvergenceWarning: Maximum number of iterations reached\n",
      "  warnings.warn(\"Maximum number of iterations reached\", ConvergenceWarning)\n",
      "c:\\Users\\loumo\\anaconda3\\envs\\madi_env\\Lib\\site-packages\\sklearn\\cross_decomposition\\_pls.py:113: ConvergenceWarning: Maximum number of iterations reached\n",
      "  warnings.warn(\"Maximum number of iterations reached\", ConvergenceWarning)\n",
      "c:\\Users\\loumo\\anaconda3\\envs\\madi_env\\Lib\\site-packages\\sklearn\\cluster\\_kmeans.py:1416: FutureWarning: The default value of `n_init` will change from 10 to 'auto' in 1.4. Set the value of `n_init` explicitly to suppress the warning\n",
      "  super()._check_params_vs_input(X, default_n_init=10)\n",
      "c:\\Users\\loumo\\anaconda3\\envs\\madi_env\\Lib\\site-packages\\sklearn\\cluster\\_kmeans.py:1440: UserWarning: KMeans is known to have a memory leak on Windows with MKL, when there are less chunks than available threads. You can avoid it by setting the environment variable OMP_NUM_THREADS=1.\n",
      "  warnings.warn(\n",
      "c:\\Users\\loumo\\anaconda3\\envs\\madi_env\\Lib\\site-packages\\sklearn\\cross_decomposition\\_pls.py:113: ConvergenceWarning: Maximum number of iterations reached\n",
      "  warnings.warn(\"Maximum number of iterations reached\", ConvergenceWarning)\n",
      "c:\\Users\\loumo\\anaconda3\\envs\\madi_env\\Lib\\site-packages\\sklearn\\cross_decomposition\\_pls.py:113: ConvergenceWarning: Maximum number of iterations reached\n",
      "  warnings.warn(\"Maximum number of iterations reached\", ConvergenceWarning)\n",
      "c:\\Users\\loumo\\anaconda3\\envs\\madi_env\\Lib\\site-packages\\sklearn\\cross_decomposition\\_pls.py:113: ConvergenceWarning: Maximum number of iterations reached\n",
      "  warnings.warn(\"Maximum number of iterations reached\", ConvergenceWarning)\n",
      "c:\\Users\\loumo\\anaconda3\\envs\\madi_env\\Lib\\site-packages\\sklearn\\cross_decomposition\\_pls.py:113: ConvergenceWarning: Maximum number of iterations reached\n",
      "  warnings.warn(\"Maximum number of iterations reached\", ConvergenceWarning)\n",
      "c:\\Users\\loumo\\anaconda3\\envs\\madi_env\\Lib\\site-packages\\sklearn\\cross_decomposition\\_pls.py:113: ConvergenceWarning: Maximum number of iterations reached\n",
      "  warnings.warn(\"Maximum number of iterations reached\", ConvergenceWarning)\n",
      "c:\\Users\\loumo\\anaconda3\\envs\\madi_env\\Lib\\site-packages\\sklearn\\cross_decomposition\\_pls.py:113: ConvergenceWarning: Maximum number of iterations reached\n",
      "  warnings.warn(\"Maximum number of iterations reached\", ConvergenceWarning)\n",
      "c:\\Users\\loumo\\anaconda3\\envs\\madi_env\\Lib\\site-packages\\sklearn\\cross_decomposition\\_pls.py:113: ConvergenceWarning: Maximum number of iterations reached\n",
      "  warnings.warn(\"Maximum number of iterations reached\", ConvergenceWarning)\n",
      "c:\\Users\\loumo\\anaconda3\\envs\\madi_env\\Lib\\site-packages\\sklearn\\cross_decomposition\\_pls.py:113: ConvergenceWarning: Maximum number of iterations reached\n",
      "  warnings.warn(\"Maximum number of iterations reached\", ConvergenceWarning)\n",
      "c:\\Users\\loumo\\anaconda3\\envs\\madi_env\\Lib\\site-packages\\sklearn\\cross_decomposition\\_pls.py:113: ConvergenceWarning: Maximum number of iterations reached\n",
      "  warnings.warn(\"Maximum number of iterations reached\", ConvergenceWarning)\n",
      "c:\\Users\\loumo\\anaconda3\\envs\\madi_env\\Lib\\site-packages\\sklearn\\cluster\\_kmeans.py:1416: FutureWarning: The default value of `n_init` will change from 10 to 'auto' in 1.4. Set the value of `n_init` explicitly to suppress the warning\n",
      "  super()._check_params_vs_input(X, default_n_init=10)\n",
      "c:\\Users\\loumo\\anaconda3\\envs\\madi_env\\Lib\\site-packages\\sklearn\\cluster\\_kmeans.py:1440: UserWarning: KMeans is known to have a memory leak on Windows with MKL, when there are less chunks than available threads. You can avoid it by setting the environment variable OMP_NUM_THREADS=2.\n",
      "  warnings.warn(\n",
      "c:\\Users\\loumo\\anaconda3\\envs\\madi_env\\Lib\\site-packages\\sklearn\\cross_decomposition\\_pls.py:113: ConvergenceWarning: Maximum number of iterations reached\n",
      "  warnings.warn(\"Maximum number of iterations reached\", ConvergenceWarning)\n",
      "c:\\Users\\loumo\\anaconda3\\envs\\madi_env\\Lib\\site-packages\\sklearn\\cross_decomposition\\_pls.py:113: ConvergenceWarning: Maximum number of iterations reached\n",
      "  warnings.warn(\"Maximum number of iterations reached\", ConvergenceWarning)\n",
      "c:\\Users\\loumo\\anaconda3\\envs\\madi_env\\Lib\\site-packages\\sklearn\\cross_decomposition\\_pls.py:113: ConvergenceWarning: Maximum number of iterations reached\n",
      "  warnings.warn(\"Maximum number of iterations reached\", ConvergenceWarning)\n",
      "c:\\Users\\loumo\\anaconda3\\envs\\madi_env\\Lib\\site-packages\\sklearn\\cross_decomposition\\_pls.py:113: ConvergenceWarning: Maximum number of iterations reached\n",
      "  warnings.warn(\"Maximum number of iterations reached\", ConvergenceWarning)\n",
      "c:\\Users\\loumo\\anaconda3\\envs\\madi_env\\Lib\\site-packages\\sklearn\\cross_decomposition\\_pls.py:113: ConvergenceWarning: Maximum number of iterations reached\n",
      "  warnings.warn(\"Maximum number of iterations reached\", ConvergenceWarning)\n",
      "c:\\Users\\loumo\\anaconda3\\envs\\madi_env\\Lib\\site-packages\\sklearn\\cross_decomposition\\_pls.py:113: ConvergenceWarning: Maximum number of iterations reached\n",
      "  warnings.warn(\"Maximum number of iterations reached\", ConvergenceWarning)\n",
      "c:\\Users\\loumo\\anaconda3\\envs\\madi_env\\Lib\\site-packages\\sklearn\\cross_decomposition\\_pls.py:113: ConvergenceWarning: Maximum number of iterations reached\n",
      "  warnings.warn(\"Maximum number of iterations reached\", ConvergenceWarning)\n",
      "c:\\Users\\loumo\\anaconda3\\envs\\madi_env\\Lib\\site-packages\\sklearn\\cross_decomposition\\_pls.py:113: ConvergenceWarning: Maximum number of iterations reached\n",
      "  warnings.warn(\"Maximum number of iterations reached\", ConvergenceWarning)\n",
      "c:\\Users\\loumo\\anaconda3\\envs\\madi_env\\Lib\\site-packages\\sklearn\\cross_decomposition\\_pls.py:113: ConvergenceWarning: Maximum number of iterations reached\n",
      "  warnings.warn(\"Maximum number of iterations reached\", ConvergenceWarning)\n",
      "c:\\Users\\loumo\\anaconda3\\envs\\madi_env\\Lib\\site-packages\\sklearn\\cross_decomposition\\_pls.py:113: ConvergenceWarning: Maximum number of iterations reached\n",
      "  warnings.warn(\"Maximum number of iterations reached\", ConvergenceWarning)\n",
      "c:\\Users\\loumo\\anaconda3\\envs\\madi_env\\Lib\\site-packages\\sklearn\\cross_decomposition\\_pls.py:113: ConvergenceWarning: Maximum number of iterations reached\n",
      "  warnings.warn(\"Maximum number of iterations reached\", ConvergenceWarning)\n",
      "c:\\Users\\loumo\\anaconda3\\envs\\madi_env\\Lib\\site-packages\\sklearn\\cluster\\_kmeans.py:1416: FutureWarning: The default value of `n_init` will change from 10 to 'auto' in 1.4. Set the value of `n_init` explicitly to suppress the warning\n",
      "  super()._check_params_vs_input(X, default_n_init=10)\n",
      "c:\\Users\\loumo\\anaconda3\\envs\\madi_env\\Lib\\site-packages\\sklearn\\cluster\\_kmeans.py:1440: UserWarning: KMeans is known to have a memory leak on Windows with MKL, when there are less chunks than available threads. You can avoid it by setting the environment variable OMP_NUM_THREADS=1.\n",
      "  warnings.warn(\n",
      "c:\\Users\\loumo\\anaconda3\\envs\\madi_env\\Lib\\site-packages\\sklearn\\cross_decomposition\\_pls.py:113: ConvergenceWarning: Maximum number of iterations reached\n",
      "  warnings.warn(\"Maximum number of iterations reached\", ConvergenceWarning)\n",
      "c:\\Users\\loumo\\anaconda3\\envs\\madi_env\\Lib\\site-packages\\sklearn\\cross_decomposition\\_pls.py:113: ConvergenceWarning: Maximum number of iterations reached\n",
      "  warnings.warn(\"Maximum number of iterations reached\", ConvergenceWarning)\n",
      "c:\\Users\\loumo\\anaconda3\\envs\\madi_env\\Lib\\site-packages\\sklearn\\cross_decomposition\\_pls.py:113: ConvergenceWarning: Maximum number of iterations reached\n",
      "  warnings.warn(\"Maximum number of iterations reached\", ConvergenceWarning)\n",
      "c:\\Users\\loumo\\anaconda3\\envs\\madi_env\\Lib\\site-packages\\sklearn\\cross_decomposition\\_pls.py:113: ConvergenceWarning: Maximum number of iterations reached\n",
      "  warnings.warn(\"Maximum number of iterations reached\", ConvergenceWarning)\n",
      "c:\\Users\\loumo\\anaconda3\\envs\\madi_env\\Lib\\site-packages\\sklearn\\cluster\\_kmeans.py:1416: FutureWarning: The default value of `n_init` will change from 10 to 'auto' in 1.4. Set the value of `n_init` explicitly to suppress the warning\n",
      "  super()._check_params_vs_input(X, default_n_init=10)\n",
      "c:\\Users\\loumo\\anaconda3\\envs\\madi_env\\Lib\\site-packages\\sklearn\\cluster\\_kmeans.py:1440: UserWarning: KMeans is known to have a memory leak on Windows with MKL, when there are less chunks than available threads. You can avoid it by setting the environment variable OMP_NUM_THREADS=2.\n",
      "  warnings.warn(\n",
      "c:\\Users\\loumo\\anaconda3\\envs\\madi_env\\Lib\\site-packages\\sklearn\\cross_decomposition\\_pls.py:113: ConvergenceWarning: Maximum number of iterations reached\n",
      "  warnings.warn(\"Maximum number of iterations reached\", ConvergenceWarning)\n",
      "c:\\Users\\loumo\\anaconda3\\envs\\madi_env\\Lib\\site-packages\\sklearn\\cross_decomposition\\_pls.py:113: ConvergenceWarning: Maximum number of iterations reached\n",
      "  warnings.warn(\"Maximum number of iterations reached\", ConvergenceWarning)\n",
      "c:\\Users\\loumo\\anaconda3\\envs\\madi_env\\Lib\\site-packages\\sklearn\\cross_decomposition\\_pls.py:113: ConvergenceWarning: Maximum number of iterations reached\n",
      "  warnings.warn(\"Maximum number of iterations reached\", ConvergenceWarning)\n",
      "c:\\Users\\loumo\\anaconda3\\envs\\madi_env\\Lib\\site-packages\\sklearn\\cross_decomposition\\_pls.py:113: ConvergenceWarning: Maximum number of iterations reached\n",
      "  warnings.warn(\"Maximum number of iterations reached\", ConvergenceWarning)\n",
      "c:\\Users\\loumo\\anaconda3\\envs\\madi_env\\Lib\\site-packages\\sklearn\\cross_decomposition\\_pls.py:113: ConvergenceWarning: Maximum number of iterations reached\n",
      "  warnings.warn(\"Maximum number of iterations reached\", ConvergenceWarning)\n",
      "c:\\Users\\loumo\\anaconda3\\envs\\madi_env\\Lib\\site-packages\\sklearn\\cross_decomposition\\_pls.py:113: ConvergenceWarning: Maximum number of iterations reached\n",
      "  warnings.warn(\"Maximum number of iterations reached\", ConvergenceWarning)\n",
      "c:\\Users\\loumo\\anaconda3\\envs\\madi_env\\Lib\\site-packages\\sklearn\\cross_decomposition\\_pls.py:113: ConvergenceWarning: Maximum number of iterations reached\n",
      "  warnings.warn(\"Maximum number of iterations reached\", ConvergenceWarning)\n",
      "c:\\Users\\loumo\\anaconda3\\envs\\madi_env\\Lib\\site-packages\\sklearn\\cross_decomposition\\_pls.py:113: ConvergenceWarning: Maximum number of iterations reached\n",
      "  warnings.warn(\"Maximum number of iterations reached\", ConvergenceWarning)\n",
      "c:\\Users\\loumo\\anaconda3\\envs\\madi_env\\Lib\\site-packages\\sklearn\\cross_decomposition\\_pls.py:113: ConvergenceWarning: Maximum number of iterations reached\n",
      "  warnings.warn(\"Maximum number of iterations reached\", ConvergenceWarning)\n",
      "c:\\Users\\loumo\\anaconda3\\envs\\madi_env\\Lib\\site-packages\\sklearn\\cross_decomposition\\_pls.py:113: ConvergenceWarning: Maximum number of iterations reached\n",
      "  warnings.warn(\"Maximum number of iterations reached\", ConvergenceWarning)\n",
      "c:\\Users\\loumo\\anaconda3\\envs\\madi_env\\Lib\\site-packages\\sklearn\\cross_decomposition\\_pls.py:113: ConvergenceWarning: Maximum number of iterations reached\n",
      "  warnings.warn(\"Maximum number of iterations reached\", ConvergenceWarning)\n",
      "c:\\Users\\loumo\\anaconda3\\envs\\madi_env\\Lib\\site-packages\\sklearn\\cluster\\_kmeans.py:1416: FutureWarning: The default value of `n_init` will change from 10 to 'auto' in 1.4. Set the value of `n_init` explicitly to suppress the warning\n",
      "  super()._check_params_vs_input(X, default_n_init=10)\n",
      "c:\\Users\\loumo\\anaconda3\\envs\\madi_env\\Lib\\site-packages\\sklearn\\cluster\\_kmeans.py:1440: UserWarning: KMeans is known to have a memory leak on Windows with MKL, when there are less chunks than available threads. You can avoid it by setting the environment variable OMP_NUM_THREADS=1.\n",
      "  warnings.warn(\n"
     ]
    }
   ],
   "source": [
    "train_data = df.values\n",
    "spn_classification = learn_classifier(\n",
    "    train_data,\n",
    "    Context(domains=dom, parametric_types=[Categorical]*65), \n",
    "    spn_learn_wrapper=learn_parametric, label_idx=64)"
   ]
  },
  {
   "cell_type": "markdown",
   "metadata": {},
   "source": [
    "#### Comprendre la structure du SPN appris"
   ]
  },
  {
   "cell_type": "code",
   "execution_count": 9,
   "metadata": {},
   "outputs": [
    {
     "data": {
      "text/plain": [
       "<module 'matplotlib.pyplot' from 'c:\\\\Users\\\\loumo\\\\anaconda3\\\\envs\\\\madi_env\\\\Lib\\\\site-packages\\\\matplotlib\\\\pyplot.py'>"
      ]
     },
     "execution_count": 9,
     "metadata": {},
     "output_type": "execute_result"
    },
    {
     "data": {
      "image/png": "[encoded data removed]",
      "text/plain": [
       "<Figure size 640x480 with 1 Axes>"
      ]
     },
     "metadata": {},
     "output_type": "display_data"
    }
   ],
   "source": [
    "from spn.io.Graphics import draw_spn\n",
    "\n",
    "draw_spn(spn_classification)"
   ]
  },
  {
   "cell_type": "code",
   "execution_count": 10,
   "metadata": {},
   "outputs": [
    {
     "name": "stdout",
     "output_type": "stream",
     "text": [
      "{<class 'spn.structure.Base.Sum'>, <class 'spn.structure.leaves.parametric.Parametric.Categorical'>, <class 'spn.structure.Base.Product'>}\n",
      "1640\n",
      "1641\n",
      "7\n"
     ]
    }
   ],
   "source": [
    "dict_node_types = get_node_types(spn_classification)  # get types of nodes in a subtree\n",
    "print(dict_node_types)\n",
    "\n",
    "nb_edges = get_number_of_edges(spn_classification)\n",
    "print(nb_edges)\n",
    "\n",
    "nb_nodes = get_number_of_nodes(spn_classification)\n",
    "print(nb_nodes)\n",
    "\n",
    "depth = get_depth(spn_classification)\n",
    "print(depth)\n"
   ]
  },
  {
   "cell_type": "code",
   "execution_count": 11,
   "metadata": {},
   "outputs": [
    {
     "name": "stdout",
     "output_type": "stream",
     "text": [
      "4\n"
     ]
    }
   ],
   "source": [
    "depth = get_depth(spn_classification.children[0])\n",
    "print(depth)"
   ]
  },
  {
   "cell_type": "markdown",
   "metadata": {},
   "source": [
    "#### Prédiction avec le SPN appris"
   ]
  },
  {
   "cell_type": "code",
   "execution_count": 12,
   "metadata": {},
   "outputs": [
    {
     "name": "stderr",
     "output_type": "stream",
     "text": [
      "c:\\Users\\loumo\\anaconda3\\envs\\madi_env\\Lib\\site-packages\\spn\\structure\\leaves\\parametric\\Inference.py:88: RuntimeWarning: divide by zero encountered in log\n",
      "  probs[idx_in] = np.array(np.log(node.p))[cat_data[~out_domain_ids]]\n"
     ]
    },
    {
     "name": "stdout",
     "output_type": "stream",
     "text": [
      "[[ 0.  0.  0. ...  0.  0. nan]\n",
      " [ 0.  0.  0. ...  9.  0. nan]\n",
      " [ 0.  0.  7. ...  0.  0. nan]\n",
      " ...\n",
      " [ 0.  0.  1. ...  0.  0. nan]\n",
      " [ 0.  0.  2. ...  0.  0. nan]\n",
      " [ 0.  0. 10. ...  1.  0. nan]]\n"
     ]
    }
   ],
   "source": [
    "pred_im = mpe(spn_classification, test_data_no_class)\n",
    "print(test_data_no_class)"
   ]
  },
  {
   "cell_type": "markdown",
   "metadata": {},
   "source": [
    "#### Accuracy"
   ]
  },
  {
   "cell_type": "code",
   "execution_count": 13,
   "metadata": {},
   "outputs": [
    {
     "name": "stdout",
     "output_type": "stream",
     "text": [
      "0.6648106904231625\n"
     ]
    }
   ],
   "source": [
    "nb_im = 1796\n",
    "nb_err = np.where(pred_im==test_data,0,1).sum()\n",
    "acc = (nb_im-nb_err)/nb_im\n",
    "print(acc)"
   ]
  },
  {
   "cell_type": "markdown",
   "metadata": {},
   "source": [
    "## Learn CSPN"
   ]
  },
  {
   "cell_type": "markdown",
   "metadata": {},
   "source": [
    "### Epsilon-contamination"
   ]
  },
  {
   "cell_type": "code",
   "execution_count": 14,
   "metadata": {},
   "outputs": [],
   "source": [
    "import copy\n",
    "\n",
    "def eps_contamination(spn, eps):\n",
    "    '''\n",
    "    Updates the weights of an SPN with epsilon-contamination at the node spn.\n",
    "    Parameters\n",
    "    -------------\n",
    "    Entrées : spn : SPN ; eps : float\n",
    "    Sortie : CSPN\n",
    "    '''\n",
    "    if isinstance(spn, Sum):\n",
    "        lw = len(spn.weights)\n",
    "        for i in range(lw):\n",
    "            if not(isinstance(spn.weights[i], list)):         # Si l'arête n'a pas déjà été 'crédalisée'\n",
    "                spn.weights[i] = [(1-eps)*spn.weights[i], (1-eps)*spn.weights[i] + eps]\n",
    "                for child in spn.children:\n",
    "                    eps_contamination(child, eps)\n",
    "    elif isinstance(spn, Product):\n",
    "        for child in spn.children:\n",
    "            eps_contamination(child, eps)\n",
    "    return spn\n",
    "\n",
    "def cspn_from_spn(spn, eps):\n",
    "    '''\n",
    "    Produces a CSPN from an SPN with epsilon-contamination by calling recursively spn_to_cspn\n",
    "    Parameters\n",
    "    -------------\n",
    "    Entrées : spn : SPN ; eps : float\n",
    "    Sortie : CSPN\n",
    "    '''\n",
    "    c_spn = copy.deepcopy(spn)\n",
    "    return eps_contamination(c_spn, eps)"
   ]
  },
  {
   "cell_type": "code",
   "execution_count": 15,
   "metadata": {},
   "outputs": [],
   "source": [
    "cspn = cspn_from_spn(spn_classification, 0.1)"
   ]
  },
  {
   "cell_type": "markdown",
   "metadata": {},
   "source": [
    "## Adaptation du calcul de la vraisemblance"
   ]
  },
  {
   "cell_type": "markdown",
   "metadata": {},
   "source": [
    "Il faut résoudre un programme linéaire lorsque l'on rencontre un noeud SOMME :\n",
    "\n",
    "\\begin{equation}\n",
    "\\begin{aligned}\n",
    "\\min \\sum_j w_{ij} L^j(\\lambda)\\\\\n",
    "s.c. \\quad w_i \\in C_i\n",
    "\\end{aligned}   \n",
    "\\end{equation}"
   ]
  },
  {
   "cell_type": "code",
   "execution_count": 16,
   "metadata": {},
   "outputs": [],
   "source": [
    "def likelihood_cspn_borne(cspn, x, borne=\"min\"):\n",
    "    '''\n",
    "    Calcule la vraisemblance min (ou max) d'une réalisation x des variables dans le cspn (arbre ou sous-arbre) \n",
    "    (comme expliqué dans l'article à la section 4)\n",
    "    Paramètres\n",
    "    ------------\n",
    "    Entrées : cspn ; réalisation x : vecteur de taille nombre de feuilles ; borne : string (\"min\" ou \"max\")\n",
    "    Sortie : vraisemblance : float np.array de dim 2 (min et max likelihood)\n",
    "    '''\n",
    "    if isinstance(cspn, Leaf):\n",
    "        variable = cspn.scope    # Leaf nodes have an attribute scope corresponding to the variable they represent (list of one element), other nodes \n",
    "        # have an attribute scope which is a list of the variables represented by the leaf nodes they are connected to.\n",
    "        pass\n",
    "    elif isinstance(cspn, Product):\n",
    "        m = 1\n",
    "        for child in cspn.children:\n",
    "            m *= likelihood_cspn_borne(child, x, borne)\n",
    "    elif isinstance(cspn, Sum):\n",
    "        if borne==\"min\":\n",
    "            pass # Résoudre le programme linéaire de l'article\n",
    "        elif borne==\"max\":\n",
    "            pass # Résoudre autre programme linéaire\n",
    "    return m"
   ]
  },
  {
   "cell_type": "code",
   "execution_count": 17,
   "metadata": {},
   "outputs": [
    {
     "name": "stdout",
     "output_type": "stream",
     "text": [
      "[[ 0.  0.  0. ...  0.  0. nan]\n",
      " [ 0.  0.  0. ...  9.  0. nan]\n",
      " [ 0.  0.  7. ...  0.  0. nan]\n",
      " ...\n",
      " [ 0.  0.  1. ...  0.  0. nan]\n",
      " [ 0.  0.  2. ...  0.  0. nan]\n",
      " [ 0.  0. 10. ...  1.  0. nan]]\n",
      "[[ 0.  0.  0. 12. 13.  5.  0.  0.  0.  0.  0. 11. 16.  9.  0.  0.  0.  0.\n",
      "   3. 15. 16.  6.  0.  0.  0.  7. 15. 16. 16.  2.  0.  0.  0.  0.  1. 16.\n",
      "  16.  3.  0.  0.  0.  0.  1. 16. 16.  6.  0.  0.  0.  0.  1. 16. 16.  6.\n",
      "   0.  0.  0.  0.  0. 11. 16. 10.  0.  0. nan]]\n"
     ]
    }
   ],
   "source": [
    "import copy\n",
    "\n",
    "print(test_data_no_class)\n",
    "test_classification = test_data_no_class[0].reshape(-1,test_data_no_class[1].shape[0])\n",
    "print(test_classification)\n"
   ]
  },
  {
   "cell_type": "code",
   "execution_count": 18,
   "metadata": {},
   "outputs": [
    {
     "name": "stdout",
     "output_type": "stream",
     "text": [
      "Lower likelihood : [[7.12833779e-33]]\n",
      "Likelihood : [[8.80041686e-33]]\n",
      "Upper likelihood : [[7.12833779e-33]]\n"
     ]
    }
   ],
   "source": [
    "def lower_sum_likelihood(node, children, dtype=np.float64, **kwargs):\n",
    "    c = copy.deepcopy(children)\n",
    "    c = np.ravel(c).tolist()\n",
    "    A_eq = [np.ravel([1 for i in node.weights]).tolist()]\n",
    "    b_eq = [1]\n",
    "    res = scipy.optimize.linprog(c, A_eq=A_eq, b_eq=b_eq, bounds=[(w[0], w[1]) for w in node.weights])\n",
    "    return np.array(res.fun).reshape(1,1)\n",
    "\n",
    "_lower_node_likelihood = _node_likelihood.copy()\n",
    "_lower_node_likelihood[Sum] = lower_sum_likelihood\n",
    "\n",
    "lcll = likelihood(cspn, test_classification, node_likelihood = _lower_node_likelihood)\n",
    "print('Lower likelihood :', lcll)\n",
    "\n",
    "print('Likelihood :', likelihood(spn_classification, test_classification))\n",
    "\n",
    "def upper_sum_likelihood(node, children, dtype=np.float64, **kwargs):\n",
    "    c = copy.deepcopy(children)\n",
    "    c = (-np.ravel(c)).tolist()\n",
    "    A_eq = [np.ravel([1 for i in node.weights]).tolist()]\n",
    "    b_eq = [1]\n",
    "    res = scipy.optimize.linprog(c, A_eq=A_eq, b_eq=b_eq, bounds=[(w[0], w[1]) for w in node.weights])\n",
    "    return np.array(-res.fun).reshape(1,1)\n",
    "\n",
    "_upper_node_likelihood = _node_likelihood.copy()\n",
    "_upper_node_likelihood[Sum] = upper_sum_likelihood\n",
    "\n",
    "ucll = likelihood(cspn, test_classification, node_likelihood = _upper_node_likelihood)\n",
    "print('Upper likelihood :', ucll)"
   ]
  },
  {
   "cell_type": "markdown",
   "metadata": {},
   "source": [
    "### Interval-dominance classification"
   ]
  },
  {
   "cell_type": "code",
   "execution_count": 87,
   "metadata": {},
   "outputs": [],
   "source": [
    "def interval_dom(cspn, data, c1, c2):\n",
    "    '''\n",
    "    Renvoie True si la classe c1 domine par intervalle la classe c2.\n",
    "    Paramètres\n",
    "    ------------\n",
    "    Entrées : \n",
    "    - cspn \n",
    "    - data : réalisation (sans la donnée de classe) \n",
    "    - c1, c2 : indices de classe\n",
    "    Sortie : Booléen \n",
    "    '''\n",
    "    data_c1 = data.reshape(-1, data.shape[0])\n",
    "    data_c1[0,-1] = c1\n",
    "    #print(\"data-c1\",data_c1)\n",
    "    l_c1, u_c1 = likelihood(cspn, data_c1, node_likelihood = _lower_node_likelihood), likelihood(cspn, data_c1, node_likelihood = _upper_node_likelihood)\n",
    "    #l1 = likelihood(spn_classification, data_c1)\n",
    "    print(\"c1\", l_c1, u_c1)\n",
    "    #print(\"likelihood1\",l1)\n",
    "    data_c2 = data.reshape(-1, data.shape[0])\n",
    "    data_c2[0,-1] = c2\n",
    "    #print(\"data-c2\",data_c2)\n",
    "    l_c2, u_c2 = likelihood(cspn, data_c2, node_likelihood = _lower_node_likelihood), likelihood(cspn, data_c2, node_likelihood = _upper_node_likelihood)\n",
    "    print(\"c2\", l_c2, u_c2)\n",
    "    #l2 = likelihood(spn_classification, data_c2)\n",
    "    #print(\"likelihood2\",l2)\n",
    "\n",
    "    return bool(l_c1 > u_c2)"
   ]
  },
  {
   "cell_type": "code",
   "execution_count": 88,
   "metadata": {},
   "outputs": [
    {
     "name": "stdout",
     "output_type": "stream",
     "text": [
      "(1796, 65)\n",
      "[[ 0.  0.  0. ...  0.  0. nan]\n",
      " [ 0.  0.  0. ...  9.  0. nan]\n",
      " [ 0.  0.  7. ...  0.  0. nan]\n",
      " ...\n",
      " [ 0.  0.  1. ...  0.  0. nan]\n",
      " [ 0.  0.  2. ...  0.  0. nan]\n",
      " [ 0.  0. 10. ...  1.  0. nan]]\n"
     ]
    }
   ],
   "source": [
    "test_data = df_test.values\n",
    "#print(test_data)\n",
    "print(np.shape(test_data))\n",
    "test_data_no_class = np.ones((1796,65))*np.nan\n",
    "test_data_no_class[:,:64] = test_data[:,:64]\n",
    "print(test_data_no_class)\n",
    "test_classification = test_data_no_class[1].reshape(-1,test_data_no_class[1].shape[0])"
   ]
  },
  {
   "cell_type": "code",
   "execution_count": 92,
   "metadata": {},
   "outputs": [
    {
     "data": {
      "image/png": "[encoded data removed]",
      "text/plain": [
       "<Figure size 640x480 with 1 Axes>"
      ]
     },
     "metadata": {},
     "output_type": "display_data"
    },
    {
     "name": "stdout",
     "output_type": "stream",
     "text": [
      "0.0\n",
      "[[0.]] [[-0.]]\n",
      "c1 [[0.]] [[-0.]]\n",
      "c2 [[0.]] [[-0.]]\n",
      "False\n",
      "[[0.]] [[-0.]]\n",
      "c1 [[0.]] [[-0.]]\n",
      "c2 [[0.]] [[-0.]]\n",
      "False\n",
      "[[0.]] [[-0.]]\n",
      "c1 [[0.]] [[-0.]]\n",
      "c2 [[0.]] [[-0.]]\n",
      "False\n",
      "[[0.]] [[-0.]]\n",
      "c1 [[0.]] [[-0.]]\n",
      "c2 [[0.]] [[-0.]]\n",
      "False\n",
      "[[0.]] [[-0.]]\n",
      "c1 [[0.]] [[-0.]]\n",
      "c2 [[0.]] [[-0.]]\n",
      "False\n",
      "[[0.]] [[-0.]]\n",
      "c1 [[0.]] [[-0.]]\n",
      "c2 [[0.]] [[-0.]]\n",
      "False\n",
      "[[0.]] [[-0.]]\n",
      "c1 [[0.]] [[-0.]]\n",
      "c2 [[0.]] [[-0.]]\n",
      "False\n",
      "[[0.]] [[-0.]]\n",
      "c1 [[0.]] [[-0.]]\n",
      "c2 [[0.]] [[-0.]]\n",
      "False\n",
      "[[0.]] [[-0.]]\n",
      "c1 [[0.]] [[-0.]]\n",
      "c2 [[0.]] [[-0.]]\n",
      "False\n"
     ]
    }
   ],
   "source": [
    "i = 1\n",
    "im0 = test_data[i][:64]\n",
    "im0 = im0.reshape((8,8))\n",
    "import matplotlib.pyplot as plt\n",
    "im0 = 16-im0\n",
    "# Afficher l'image en niveaux de gris\n",
    "plt.imshow(im0, cmap='gray')\n",
    "plt.axis('off')  # Désactiver les axes\n",
    "plt.show()\n",
    "#print(test_data_no_class)\n",
    "data = copy.deepcopy(test_data_no_class)\n",
    "c = mpe(spn_classification, data)[i,-1]\n",
    "print(c)\n",
    "for j in range(9):\n",
    "    data = copy.deepcopy(test_data_no_class[i])\n",
    "    data_c1 = data.reshape(-1, data.shape[0])\n",
    "    data_c1[0,-1] = j\n",
    "    #print(data_c1)\n",
    "    l_c1, u_c1 = likelihood(cspn, data_c1, node_likelihood = _lower_node_likelihood), likelihood(cspn, data_c1, node_likelihood = _upper_node_likelihood)\n",
    "    print(l_c1,u_c1)\n",
    "    data = copy.deepcopy(test_data_no_class[i])\n",
    "    print(interval_dom(cspn, data, c, 0))\n"
   ]
  },
  {
   "cell_type": "code",
   "execution_count": null,
   "metadata": {},
   "outputs": [
    {
     "name": "stdout",
     "output_type": "stream",
     "text": [
      "[[ 0.  0.  0. ...  0.  0. nan]\n",
      " [ 0.  0.  0. ...  9.  0. nan]\n",
      " [ 0.  0.  7. ...  0.  0. nan]\n",
      " ...\n",
      " [ 0.  0.  1. ...  0.  0. nan]\n",
      " [ 0.  0.  2. ...  0.  0. nan]\n",
      " [ 0.  0. 10. ...  1.  0. nan]]\n"
     ]
    }
   ],
   "source": [
    "print(test_data_no_class)"
   ]
  },
  {
   "cell_type": "code",
   "execution_count": 44,
   "metadata": {},
   "outputs": [
    {
     "ename": "SyntaxError",
     "evalue": "invalid syntax (4084603226.py, line 5)",
     "output_type": "error",
     "traceback": [
      "\u001b[1;36m  Cell \u001b[1;32mIn[44], line 5\u001b[1;36m\u001b[0m\n\u001b[1;33m    if\u001b[0m\n\u001b[1;37m       ^\u001b[0m\n\u001b[1;31mSyntaxError\u001b[0m\u001b[1;31m:\u001b[0m invalid syntax\n"
     ]
    }
   ],
   "source": [
    "def robustness_interval(cspn, data, c1, eps=None):\n",
    "    if eps == None:\n",
    "        eps = 0.001\n",
    "        while eps < 0.5:\n",
    "            if \n",
    "        while interval_dom(cspn, data, c1, c2) for c2 in "
   ]
  },
  {
   "cell_type": "code",
   "execution_count": null,
   "metadata": {},
   "outputs": [],
   "source": []
  }
 ],
 "metadata": {
  "kernelspec": {
   "display_name": "madi_env",
   "language": "python",
   "name": "python3"
  },
  "language_info": {
   "codemirror_mode": {
    "name": "ipython",
    "version": 3
   },
   "file_extension": ".py",
   "mimetype": "text/x-python",
   "name": "python",
   "nbconvert_exporter": "python",
   "pygments_lexer": "ipython3",
   "version": "3.12.0"
  }
 },
 "nbformat": 4,
 "nbformat_minor": 2
}
